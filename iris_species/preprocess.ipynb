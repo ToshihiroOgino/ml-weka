{
 "cells": [
  {
   "cell_type": "markdown",
   "id": "2c7484a8",
   "metadata": {},
   "source": [
    "# Iris Species"
   ]
  },
  {
   "cell_type": "code",
   "execution_count": 16,
   "id": "3242691c",
   "metadata": {},
   "outputs": [],
   "source": [
    "import kagglehub\n",
    "import shutil\n",
    "import pandas as pd\n",
    "import os\n",
    "\n",
    "DATASET_DIR = \"../dataset/iris\"\n",
    "EXPORT_DIR = \"../dataset/preprocessed/iris/\""
   ]
  },
  {
   "cell_type": "code",
   "execution_count": 17,
   "id": "14009f49",
   "metadata": {},
   "outputs": [
    {
     "name": "stdout",
     "output_type": "stream",
     "text": [
      "Number of unique species: 3\n"
     ]
    }
   ],
   "source": [
    "if not os.path.exists(EXPORT_DIR):\n",
    "    path = kagglehub.dataset_download(\"uciml/iris\")\n",
    "    os.makedirs(DATASET_DIR, exist_ok=True)\n",
    "\n",
    "    for file in os.listdir(path):\n",
    "        src = os.path.join(path, file)\n",
    "        dst = os.path.join(DATASET_DIR, file)\n",
    "        shutil.move(src, dst)\n",
    "\n",
    "df = pd.read_csv(os.path.join(DATASET_DIR, \"iris.csv\"))\n",
    "\n",
    "num_species = df[\"Species\"].nunique()\n",
    "print(f\"Number of unique species: {num_species}\")"
   ]
  },
  {
   "cell_type": "code",
   "execution_count": 21,
   "id": "a0d6f031",
   "metadata": {},
   "outputs": [],
   "source": [
    "def drop_columns(df: pd.DataFrame) -> pd.DataFrame:\n",
    "    df = df.drop(columns=[\"Id\"])\n",
    "    return df\n",
    "\n",
    "df = drop_columns(df)"
   ]
  },
  {
   "cell_type": "code",
   "execution_count": 22,
   "id": "11bf69b4",
   "metadata": {},
   "outputs": [],
   "source": [
    "os.makedirs(EXPORT_DIR, exist_ok=True)\n",
    "df.to_csv(os.path.join(EXPORT_DIR, 'iris.csv'), index=False)"
   ]
  }
 ],
 "metadata": {
  "kernelspec": {
   "display_name": ".venv",
   "language": "python",
   "name": "python3"
  },
  "language_info": {
   "codemirror_mode": {
    "name": "ipython",
    "version": 3
   },
   "file_extension": ".py",
   "mimetype": "text/x-python",
   "name": "python",
   "nbconvert_exporter": "python",
   "pygments_lexer": "ipython3",
   "version": "3.13.4"
  }
 },
 "nbformat": 4,
 "nbformat_minor": 5
}
